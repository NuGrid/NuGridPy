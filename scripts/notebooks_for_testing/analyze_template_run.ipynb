{
 "cells": [
  {
   "cell_type": "markdown",
   "metadata": {},
   "source": [
    "# Demo for using `elemental_abund` from the `data_plot` module"
   ]
  },
  {
   "cell_type": "markdown",
   "metadata": {},
   "source": [
    "### Initializing the notebook"
   ]
  },
  {
   "cell_type": "code",
   "execution_count": null,
   "metadata": {},
   "outputs": [],
   "source": [
    "%pylab ipympl"
   ]
  },
  {
   "cell_type": "code",
   "execution_count": null,
   "metadata": {},
   "outputs": [],
   "source": [
    "# /user/NuGrid/NuGridPy # alternative?\n",
    "import sys\n",
    "sys.path.insert(1,\"/user/scratch14_wendi3/fherwig/testing-Adam-NuGridPy-refactoring/NuGridPy\")\n",
    "from nugridpy import ppn"
   ]
  },
  {
   "cell_type": "code",
   "execution_count": null,
   "metadata": {
    "scrolled": true
   },
   "outputs": [],
   "source": [
    "pa=ppn.abu_vector('../mc_multithread_sim/case1')\n",
    "#px=ppn.xtime('.')"
   ]
  },
  {
   "cell_type": "markdown",
   "metadata": {},
   "source": [
    "## Basic/legacy usage"
   ]
  },
  {
   "cell_type": "markdown",
   "metadata": {},
   "source": [
    "#### elemental_abund was designed to plot decayed elemental abundances for a given cycle as a mass fraction"
   ]
  },
  {
   "cell_type": "code",
   "execution_count": null,
   "metadata": {
    "scrolled": false
   },
   "outputs": [],
   "source": [
    "close(1);figure(1)\n",
    "pa.elemental_abund(0,ylim=[-10,1],zrange=[4,40], label='cycle  0')\n",
    "pa.elemental_abund(512,ylim=[-10,1],zrange=[4,40], label='cycle  512', colour='g',\\\n",
    "                  plotlines='--', plotlabels=False)\n",
    "legend()"
   ]
  },
  {
   "cell_type": "markdown",
   "metadata": {},
   "source": [
    "### Relative mass fractions\n",
    "\n",
    "We can now plot mass fractions with reference to another dataset using the ref option.\n",
    "by setting ref > -1 we divide the mass fraction for the selected cycle by the mass fraction for cycle N=ref.\n",
    "The y-label will show the reference cycle."
   ]
  },
  {
   "cell_type": "code",
   "execution_count": null,
   "metadata": {},
   "outputs": [],
   "source": [
    "close(2);figure(2)\n",
    "\n",
    "pa.elemental_abund(512,ref=0,\\\n",
    "                   zrange=[1,32],ylim=[-9,4])"
   ]
  },
  {
   "cell_type": "markdown",
   "metadata": {},
   "source": [
    "#### Reference files (USEEPP)\n",
    "\n",
    "We can also use a given abundance file as a reference in the USEEPP data format, such as 'iniab1.4E-02As09.ppn', by using the ref_filename option.\n",
    "This will set ref=-2, however setting the ref value manually will override the solar option."
   ]
  },
  {
   "cell_type": "code",
   "execution_count": null,
   "metadata": {},
   "outputs": [],
   "source": [
    "close(3);figure(3)\n",
    "pa.elemental_abund(512,ref_filename='../mc_multithread_sim/iniab1.4E-02As09.ppn',\\\n",
    "                   zrange=[1,32],ylim=[-9,4])"
   ]
  },
  {
   "cell_type": "markdown",
   "metadata": {},
   "source": [
    "## Pinning\n",
    "\n",
    "To improve comparison to observed data, the ability to pin an elemental abundance to a certain value has been implemented.\n",
    "If we were interested in a value of [As/Fe] of 0.63 such as that from HD 94028, we can now ensure our simulation matches that abundance for As.\n",
    "\n",
    "The pinning process calculates an 'offset' which is the difference between the cycle [X/Fe] value and the observed [X/Fe] value.\n",
    "\n",
    "    offset = [X/Fe]_obs - [X/Fe]_cycle\n",
    "    \n",
    "The offset is then added to every element to shift the plot. This acts to account for dilution."
   ]
  },
  {
   "cell_type": "markdown",
   "metadata": {},
   "source": [
    "## Using the z_pin option"
   ]
  },
  {
   "cell_type": "markdown",
   "metadata": {},
   "source": [
    "### Using an observation data file\n",
    "\n",
    "Using the `ascii_table` module, we can also read in observations. Define the file with the pin_filename option. The requirements for the file are columns containing Z, [X/Fe], sigma_xfe, and ul (charge number, [X/Fe], uncertainty in the [X/Fe] value, and an upper limit binary)\n",
    "\n",
    "The observation is compared to the value of [X/Fe] for the simulation number and the reference cycle."
   ]
  },
  {
   "cell_type": "code",
   "execution_count": null,
   "metadata": {},
   "outputs": [],
   "source": [
    "pa.get('ABUNDANCE_MF',fname=500,decayed=True)"
   ]
  },
  {
   "cell_type": "code",
   "execution_count": null,
   "metadata": {},
   "outputs": [],
   "source": [
    "#for icyc in range(512,513):\n",
    "close(4);figure(4)\n",
    "icyc=512\n",
    "pa.elemental_abund(icyc,ref=25,z_pin=33,\\\n",
    "                   pin_filename='../mc_multithread_sim/roederer_abund.dat',\\\n",
    "                   ylim=[-1,2],zrange=[28,50])\n",
    "#savefig(\"abu\"+str(icyc)+\".png\")"
   ]
  },
  {
   "cell_type": "markdown",
   "metadata": {},
   "source": [
    "### Using a manual pin\n",
    "If you don't have a data file which is readable by the ascii_table module, you can manually enter the value wanted for the pin using the pin option"
   ]
  },
  {
   "cell_type": "code",
   "execution_count": null,
   "metadata": {
    "scrolled": false
   },
   "outputs": [],
   "source": [
    "close(5);figure(5)\n",
    "pa.elemental_abund(500,ref=25,z_pin=33,pin=1.18,\\\n",
    "                   ylim=[-2,4],zrange=[28,50])"
   ]
  },
  {
   "cell_type": "markdown",
   "metadata": {},
   "source": [
    "### log eps\n",
    "Additionally, the value of log eps can be found by setting logeps=True. Currently, this requires x bounds of xlim=[1,X] due to the method of reading abundances."
   ]
  },
  {
   "cell_type": "code",
   "execution_count": null,
   "metadata": {},
   "outputs": [],
   "source": [
    "close(6);figure(6)\n",
    "pa.elemental_abund(512,logeps=True,zrange=[1,50],\\\n",
    "                   ylim=[-3,4])"
   ]
  },
  {
   "cell_type": "markdown",
   "metadata": {},
   "source": [
    "### Dilution and direct [X/Fe] calculations\n",
    "The above method of calculating the [X/Fe] value using a pinning mechanism is an approximation, using log(X/X_sol) as a proxy for [X/Fe]. This approximation is made for stars whose internal convective behaviour cannot be or has not been modeled. \n",
    "\n",
    "We can directly calculate [X/Fe] for a star using the dilution option to define the dilution coefficient for our case. This method has inherent limitations in that for many cases, [X/Fe]<0 will not be feasible as local Fe is depleted during nucleosynthesis processes."
   ]
  },
  {
   "cell_type": "code",
   "execution_count": null,
   "metadata": {},
   "outputs": [],
   "source": [
    "close(7);figure(7)\n",
    "\n",
    "pa.elemental_abund(512,ref_filename='../mc_multithread_sim/iniab1.4E-02As09.ppn',dilution=0.001,\\\n",
    "                   pin_filename='../mc_multithread_sim/roederer_abund.dat',\\\n",
    "                   ylim=[-1,2],zrange=[28,50])"
   ]
  },
  {
   "cell_type": "code",
   "execution_count": null,
   "metadata": {},
   "outputs": [],
   "source": [
    "close(7),figure(7,figsize=(8,5))\n",
    "pa.iso_abund(512,decayed=True)"
   ]
  }
 ],
 "metadata": {
  "kernelspec": {
   "display_name": "Python 3",
   "language": "python",
   "name": "python3"
  },
  "language_info": {
   "codemirror_mode": {
    "name": "ipython",
    "version": 3
   },
   "file_extension": ".py",
   "mimetype": "text/x-python",
   "name": "python",
   "nbconvert_exporter": "python",
   "pygments_lexer": "ipython3",
   "version": "3.6.7"
  }
 },
 "nbformat": 4,
 "nbformat_minor": 2
}
